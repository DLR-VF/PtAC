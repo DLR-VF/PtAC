{
 "cells": [
  {
   "cell_type": "markdown",
   "metadata": {},
   "source": [
    "## An example how to calculate sdg 11.2 indicator for Friedrichshain (Berlin)"
   ]
  },
  {
   "cell_type": "code",
   "execution_count": 1,
   "metadata": {
    "pycharm": {
     "name": "#%%\n"
    }
   },
   "outputs": [],
   "source": [
    "import os\n",
    "import sys\n",
    "\n",
    "import pandas as pd\n",
    "\n",
    "project_path = os.path.abspath('../')\n",
    "sys.path.append(project_path)\n",
    "import geopandas as gpd\n",
    "from matplotlib import pyplot as plt\n",
    "from ptac import accessibility as accessibility"
   ]
  },
  {
   "cell_type": "markdown",
   "metadata": {},
   "source": [
    "Load stops and population data and generate boundary from population data.\n",
    "The boundary is necessary to download the network afterwards."
   ]
  },
  {
   "cell_type": "code",
   "execution_count": null,
   "metadata": {
    "pycharm": {
     "name": "#%%\n",
     "is_executing": true
    }
   },
   "outputs": [],
   "source": [
    "stops = gpd.read_file(project_path + \"/data/pt_example.gpkg\")\n",
    "stops_high_capacity = gpd.read_file(project_path + \"/data/pt_example_high_capacity.gpkg\")\n",
    "stops_low_capacity = gpd.read_file(project_path + \"/data/pt_example_low_capacity.gpkg\")\n",
    "population_points = gpd.read_file(project_path + \"/data/population_example.gpkg\")\n",
    "boundary_gdf = gpd.GeoDataFrame(index=[0], crs='epsg:4326', geometry=[population_points.unary_union.convex_hull])"
   ]
  },
  {
   "cell_type": "code",
   "execution_count": null,
   "outputs": [],
   "source": [
    "population_points.crs"
   ],
   "metadata": {
    "collapsed": false,
    "pycharm": {
     "name": "#%%\n",
     "is_executing": true
    }
   }
  },
  {
   "cell_type": "markdown",
   "metadata": {},
   "source": [
    "Plot population and pt stops"
   ]
  },
  {
   "cell_type": "code",
   "execution_count": null,
   "metadata": {
    "pycharm": {
     "name": "#%%\n",
     "is_executing": true
    }
   },
   "outputs": [],
   "source": [
    "ax = population_points.plot(column= \"pop\", cmap='OrRd', legend=True)\n",
    "stops.plot(color=\"blue\", ax=ax, markersize=6)"
   ]
  },
  {
   "cell_type": "markdown",
   "metadata": {},
   "source": [
    "Calculate sum of population in the focus area"
   ]
  },
  {
   "cell_type": "code",
   "execution_count": null,
   "metadata": {
    "pycharm": {
     "name": "#%%\n",
     "is_executing": true
    }
   },
   "outputs": [],
   "source": [
    "population_sum = population_points[\"pop\"].sum()\n",
    "\n",
    "print(f\"Overall sum of population is: {population_sum}\")"
   ]
  },
  {
   "cell_type": "markdown",
   "metadata": {
    "pycharm": {
     "name": "#%% md\n"
    }
   },
   "source": [
    "Now calculate the accessibilities from population point data to stations"
   ]
  },
  {
   "cell_type": "code",
   "execution_count": null,
   "metadata": {
    "pycharm": {
     "name": "#%%\n",
     "is_executing": true
    }
   },
   "outputs": [],
   "source": [
    "accessibility_output = accessibility.distance_to_closest(\n",
    "    start_geometries=population_points,\n",
    "    destination_geometries=stops,\n",
    "    boundary_geometries=boundary_gdf,\n",
    "    maximum_distance=500,\n",
    "    epsg=25833,\n",
    "    network_exists=False,\n",
    "    verbose=5)"
   ]
  },
  {
   "cell_type": "markdown",
   "source": [
    "Select starting points which are within 500 meters from the next station"
   ],
   "metadata": {
    "collapsed": false
   }
  },
  {
   "cell_type": "code",
   "execution_count": null,
   "outputs": [],
   "source": [
    "sdg = accessibility.calculate_sdg(population=population_points,\n",
    "                                  population_column='pop',\n",
    "                                  input=accessibility_output)\n",
    "print(f\"{sdg} percent of the population have access to public transit stops\")"
   ],
   "metadata": {
    "collapsed": false,
    "pycharm": {
     "name": "#%%\n",
     "is_executing": true
    }
   }
  },
  {
   "cell_type": "markdown",
   "source": [
    "Calculate sum of population with access to pt within 500 meters"
   ],
   "metadata": {
    "collapsed": false
   }
  },
  {
   "cell_type": "code",
   "execution_count": null,
   "outputs": [],
   "source": [
    "sum_pop_with_access = accessibility_output[\"pop\"].sum()\n",
    "print(sum_pop_with_access)"
   ],
   "metadata": {
    "collapsed": false,
    "pycharm": {
     "name": "#%%\n",
     "is_executing": true
    }
   }
  },
  {
   "cell_type": "markdown",
   "source": [
    "Plot result as a map"
   ],
   "metadata": {
    "collapsed": false
   }
  },
  {
   "cell_type": "code",
   "execution_count": null,
   "outputs": [],
   "source": [
    "accessibility_output.plot(column='distance_pt', cmap='OrRd')\n",
    "plt.show()"
   ],
   "metadata": {
    "collapsed": false,
    "pycharm": {
     "name": "#%%\n",
     "is_executing": true
    }
   }
  },
  {
   "cell_type": "code",
   "execution_count": null,
   "outputs": [],
   "source": [
    "accessibility_output_high = accessibility.distance_to_closest(\n",
    "    start_geometries=population_points,\n",
    "    destination_geometries=stops_high_capacity,\n",
    "    transport_system=\"high-capacity\",\n",
    "    boundary_geometries=boundary_gdf,\n",
    "    epsg=25833,\n",
    "    network_exists=True,\n",
    "    verbose=5)"
   ],
   "metadata": {
    "collapsed": false,
    "pycharm": {
     "name": "#%%\n",
     "is_executing": true
    }
   }
  },
  {
   "cell_type": "code",
   "execution_count": null,
   "outputs": [],
   "source": [
    "accessibility_output_low = accessibility.distance_to_closest(\n",
    "    start_geometries=population_points,\n",
    "    destination_geometries=stops_low_capacity,\n",
    "    transport_system=\"low-capacity\",\n",
    "    boundary_geometries=boundary_gdf,\n",
    "    epsg=25833,\n",
    "    network_exists=True,\n",
    "    verbose=5)"
   ],
   "metadata": {
    "collapsed": false,
    "pycharm": {
     "name": "#%%\n",
     "is_executing": true
    }
   }
  },
  {
   "cell_type": "markdown",
   "source": [
    "Calculate the actual indicator for low- and high-capacity transport systems and print the result"
   ],
   "metadata": {
    "collapsed": false
   }
  },
  {
   "cell_type": "code",
   "execution_count": null,
   "outputs": [],
   "source": [
    "sdg_low_high = accessibility.calculate_sdg(population=population_points,\n",
    "                                           population_column='pop',\n",
    "                                           input=[accessibility_output_high,\n",
    "                                                  accessibility_output_low])\n",
    "print(f\"{sdg_low_high} percent of the population have access to low- and high-capacity public transit systems\")\n"
   ],
   "metadata": {
    "collapsed": false,
    "pycharm": {
     "name": "#%%\n",
     "is_executing": true
    }
   }
  },
  {
   "cell_type": "code",
   "execution_count": null,
   "outputs": [],
   "source": [
    "accessibility_low_high = accessibility.concat_dfs(input=[accessibility_output_high, accessibility_output_low])"
   ],
   "metadata": {
    "collapsed": false,
    "pycharm": {
     "name": "#%%\n",
     "is_executing": true
    }
   }
  },
  {
   "cell_type": "code",
   "execution_count": null,
   "outputs": [],
   "source": [
    "accessibility_low_high.plot(column='distance_pt', cmap='OrRd')\n",
    "plt.show()"
   ],
   "metadata": {
    "collapsed": false,
    "pycharm": {
     "name": "#%%\n",
     "is_executing": true
    }
   }
  },
  {
   "cell_type": "code",
   "execution_count": null,
   "outputs": [],
   "source": [
    "accessibility.create_population_data(input_path=\"D:/trak/cities\",\n",
    "                                     output_path=\"D:/trak/cities_population_point\", extension=\".csv\")\n"
   ],
   "metadata": {
    "collapsed": false,
    "pycharm": {
     "name": "#%%\n",
     "is_executing": true
    }
   }
  },
  {
   "cell_type": "code",
   "execution_count": null,
   "outputs": [],
   "source": [],
   "metadata": {
    "collapsed": false,
    "pycharm": {
     "name": "#%%\n",
     "is_executing": true
    }
   }
  },
  {
   "cell_type": "code",
   "execution_count": null,
   "outputs": [],
   "source": [],
   "metadata": {
    "collapsed": false,
    "pycharm": {
     "name": "#%%\n",
     "is_executing": true
    }
   }
  }
 ],
 "metadata": {
  "kernelspec": {
   "display_name": "Python 3 (ipykernel)",
   "language": "python",
   "name": "python3"
  },
  "language_info": {
   "codemirror_mode": {
    "name": "ipython",
    "version": 3
   },
   "file_extension": ".py",
   "mimetype": "text/x-python",
   "name": "python",
   "nbconvert_exporter": "python",
   "pygments_lexer": "ipython3",
   "version": "3.8.10"
  }
 },
 "nbformat": 4,
 "nbformat_minor": 1
}