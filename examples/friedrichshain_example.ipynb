{
 "cells": [
  {
   "cell_type": "markdown",
   "source": [
    "## An example how to calculate sdg 11.2 indicator for Friedrichshain (Berlin)"
   ],
   "metadata": {
    "collapsed": false
   }
  },
  {
   "cell_type": "code",
   "execution_count": null,
   "outputs": [],
   "source": [
    "import geopandas as gpd\n",
    "import os\n",
    "from matplotlib import pyplot as plt\n",
    "from PtAC import accessibility as accessibility\n",
    "\n",
    "project_path = os.path.abspath('../')\n"
   ],
   "metadata": {
    "collapsed": false,
    "pycharm": {
     "name": "#%%\n"
    }
   }
  },
  {
   "cell_type": "markdown",
   "source": [
    "Load stops and population data and generate boundary from population data.\n",
    "The boundary is necessary to download the network afterwards."
   ],
   "metadata": {
    "collapsed": false
   }
  },
  {
   "cell_type": "code",
   "execution_count": null,
   "outputs": [],
   "source": [
    "stops = gpd.read_file(project_path + \"/data/pt_example.gpkg\")\n",
    "population_points = gpd.read_file(project_path + \"/data/population_example.gpkg\")\n",
    "boundary_gdf = gpd.GeoDataFrame(index=[0], crs='epsg:4326', geometry=[population_points.unary_union.convex_hull])"
   ],
   "metadata": {
    "collapsed": false,
    "pycharm": {
     "name": "#%%\n"
    }
   }
  },
  {
   "cell_type": "markdown",
   "source": [
    "Now calculate the accessibilities from population point data to stations"
   ],
   "metadata": {
    "collapsed": false
   }
  },
  {
   "cell_type": "code",
   "execution_count": null,
   "outputs": [],
   "source": [
    "accessibility_output = accessibility.distance_to_closest(start_geometries=population_points,\n",
    "                                  destination_geometries=stops,\n",
    "                                  boundary_geometries=boundary_gdf,\n",
    "                                  epsg=25833,\n",
    "                                  network_exists=True,\n",
    "                                  verbose=5)"
   ],
   "metadata": {
    "collapsed": false,
    "pycharm": {
     "name": "#%%\n"
    }
   }
  },
  {
   "cell_type": "markdown",
   "source": [
    "Plot result"
   ],
   "metadata": {
    "collapsed": false
   }
  },
  {
   "cell_type": "code",
   "execution_count": null,
   "outputs": [],
   "source": [
    "accessibility_output.plot(column='avg_distance', cmap='OrRd')\n",
    "plt.show()\n"
   ],
   "metadata": {
    "collapsed": false,
    "pycharm": {
     "name": "#%%\n"
    }
   }
  }
 ],
 "metadata": {
  "kernelspec": {
   "display_name": "Python 3",
   "language": "python",
   "name": "python3"
  },
  "language_info": {
   "codemirror_mode": {
    "name": "ipython",
    "version": 2
   },
   "file_extension": ".py",
   "mimetype": "text/x-python",
   "name": "python",
   "nbconvert_exporter": "python",
   "pygments_lexer": "ipython2",
   "version": "2.7.6"
  }
 },
 "nbformat": 4,
 "nbformat_minor": 0
}