{
 "cells": [
  {
   "cell_type": "markdown",
   "source": [
    "## An example how to convert population raster data to points"
   ],
   "metadata": {
    "collapsed": false
   }
  },
  {
   "cell_type": "code",
   "execution_count": 2,
   "outputs": [
    {
     "data": {
      "text/plain": "        pop    x_coord    y_coord                   geometry\n0  1.889245  13.441986  52.530828  POINT (13.44199 52.53083)\n1  2.585283  13.441716  52.530558  POINT (13.44172 52.53056)\n2  6.065472  13.437135  52.529480  POINT (13.43713 52.52948)\n3  6.065472  13.437404  52.529480  POINT (13.43740 52.52948)\n4  1.988679  13.440099  52.529480  POINT (13.44010 52.52948)",
      "text/html": "<div>\n<style scoped>\n    .dataframe tbody tr th:only-of-type {\n        vertical-align: middle;\n    }\n\n    .dataframe tbody tr th {\n        vertical-align: top;\n    }\n\n    .dataframe thead th {\n        text-align: right;\n    }\n</style>\n<table border=\"1\" class=\"dataframe\">\n  <thead>\n    <tr style=\"text-align: right;\">\n      <th></th>\n      <th>pop</th>\n      <th>x_coord</th>\n      <th>y_coord</th>\n      <th>geometry</th>\n    </tr>\n  </thead>\n  <tbody>\n    <tr>\n      <th>0</th>\n      <td>1.889245</td>\n      <td>13.441986</td>\n      <td>52.530828</td>\n      <td>POINT (13.44199 52.53083)</td>\n    </tr>\n    <tr>\n      <th>1</th>\n      <td>2.585283</td>\n      <td>13.441716</td>\n      <td>52.530558</td>\n      <td>POINT (13.44172 52.53056)</td>\n    </tr>\n    <tr>\n      <th>2</th>\n      <td>6.065472</td>\n      <td>13.437135</td>\n      <td>52.529480</td>\n      <td>POINT (13.43713 52.52948)</td>\n    </tr>\n    <tr>\n      <th>3</th>\n      <td>6.065472</td>\n      <td>13.437404</td>\n      <td>52.529480</td>\n      <td>POINT (13.43740 52.52948)</td>\n    </tr>\n    <tr>\n      <th>4</th>\n      <td>1.988679</td>\n      <td>13.440099</td>\n      <td>52.529480</td>\n      <td>POINT (13.44010 52.52948)</td>\n    </tr>\n  </tbody>\n</table>\n</div>"
     },
     "execution_count": 2,
     "metadata": {},
     "output_type": "execute_result"
    }
   ],
   "source": [
    "import ptac.population as population\n",
    "import os\n",
    "import sys\n",
    "project_path = os.path.abspath('../')\n",
    "sys.path.append(project_path)\n",
    "import geopandas as gpd\n",
    "from matplotlib import pyplot as plt\n",
    "from ptac import population as population\n",
    "from ptac import osm as osm\n",
    "\n",
    "gdf = population.raster_to_points(path=project_path + \"/data/friedrichshain_raster.tif\")\n",
    "\n",
    "\n",
    "gdf.head()"
   ],
   "metadata": {
    "collapsed": false,
    "pycharm": {
     "name": "#%%\n"
    }
   }
  }
 ],
 "metadata": {
  "kernelspec": {
   "display_name": "Python 3",
   "language": "python",
   "name": "python3"
  },
  "language_info": {
   "codemirror_mode": {
    "name": "ipython",
    "version": 2
   },
   "file_extension": ".py",
   "mimetype": "text/x-python",
   "name": "python",
   "nbconvert_exporter": "python",
   "pygments_lexer": "ipython2",
   "version": "2.7.6"
  }
 },
 "nbformat": 4,
 "nbformat_minor": 0
}